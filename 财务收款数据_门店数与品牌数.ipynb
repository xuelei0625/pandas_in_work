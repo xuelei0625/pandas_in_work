{
 "cells": [
  {
   "cell_type": "code",
   "execution_count": 1,
   "metadata": {},
   "outputs": [],
   "source": [
    "import pandas as pd\n",
    "\n",
    "#财务收款数据和财务退款数据 的清洗\n",
    "def clean_data(path):\n",
    "    data = pd.read_csv(path,engine='python')\n",
    "    for column in data.columns:\n",
    "        try:\n",
    "            data[column]=data[column].str.replace('\\t','')\n",
    "        except:\n",
    "            pass\n",
    "    data['设备名称'] = data['设备名称'].str.replace('（','(')\n",
    "    data['设备名称'] = data['设备名称'].str.replace('）',')')\n",
    "    return data"
   ]
  },
  {
   "cell_type": "code",
   "execution_count": 2,
   "metadata": {},
   "outputs": [],
   "source": [
    "#读取人员名单\n",
    "employee = pd.read_excel(r'D:\\周报制作\\人员名单.xlsx')[['city_employee','城市','区域','部门']]\n",
    "#读取财务收款数据\n",
    "data_in = clean_data(r'D:\\周报制作\\报表-收款数据20180810_12-55-39.csv')"
   ]
  },
  {
   "cell_type": "code",
   "execution_count": 3,
   "metadata": {},
   "outputs": [
    {
     "name": "stdout",
     "output_type": "stream",
     "text": [
      "(0, 4)\n",
      "Empty DataFrame\n",
      "Columns: [销售人, 销售人城市, city_employee, 部门]\n",
      "Index: []\n"
     ]
    }
   ],
   "source": [
    "data_in['订单号'] = data_in['订单号'].astype(str)\n",
    "data_in['city_employee'] = data_in['销售人城市'] + '/' + data_in['销售人']\n",
    "#匹配销售人城市、区域、部门\n",
    "data_in_add_department = pd.merge(data_in,employee,left_on='city_employee',right_on='city_employee',how='left')\n",
    "#未匹配到的人员名单\n",
    "employee_wait_add = data_in_add_department[data_in_add_department['部门'].isnull()==True][['销售人','销售人城市','city_employee','部门']].drop_duplicates()\n",
    "print(employee_wait_add.shape)\n",
    "print(employee_wait_add)"
   ]
  },
  {
   "cell_type": "code",
   "execution_count": 4,
   "metadata": {},
   "outputs": [
    {
     "data": {
      "text/plain": [
       "上海     93\n",
       "广州     79\n",
       "成都     57\n",
       "北京     53\n",
       "深圳     45\n",
       "杭州     44\n",
       "南京     37\n",
       "武汉     36\n",
       "厦门     27\n",
       "西安     26\n",
       "沈阳     25\n",
       "苏州     24\n",
       "重庆     24\n",
       "天津     22\n",
       "青岛     21\n",
       "郑州     16\n",
       "宁波     16\n",
       "长沙     15\n",
       "无锡     14\n",
       "南宁     14\n",
       "济南     14\n",
       "福州     13\n",
       "合肥     11\n",
       "湖州     11\n",
       "哈尔滨    11\n",
       "常州     10\n",
       "大连      9\n",
       "佛山      5\n",
       "温州      4\n",
       "南昌      2\n",
       "Name: 销售人城市, dtype: int64"
      ]
     },
     "execution_count": 4,
     "metadata": {},
     "output_type": "execute_result"
    }
   ],
   "source": [
    "#data_in_merge 订单折叠\n",
    "data_in_merge = data_in_add_department.drop_duplicates(subset='订单号',keep='first',inplace=False)\n",
    "three_departments = ['直销部','口碑项目部','信息流程优化部']\n",
    "data_in_merge_need = data_in_merge[data_in_merge['部门'].isin(three_departments)==True]\n",
    "#城市、门店 去重\n",
    "city_door_list = data_in_merge_need.drop_duplicates(subset=['销售人城市','商家ID'],keep='first',inplace=False)\n",
    "city_door_count = city_door_list['销售人城市'].value_counts()\n",
    "#城市、门店数统计\n",
    "city_door_count"
   ]
  },
  {
   "cell_type": "code",
   "execution_count": 5,
   "metadata": {},
   "outputs": [
    {
     "data": {
      "text/plain": [
       "上海     79\n",
       "广州     53\n",
       "成都     49\n",
       "深圳     44\n",
       "北京     43\n",
       "杭州     42\n",
       "南京     33\n",
       "武汉     27\n",
       "厦门     23\n",
       "苏州     22\n",
       "西安     22\n",
       "重庆     22\n",
       "青岛     20\n",
       "天津     20\n",
       "沈阳     19\n",
       "宁波     16\n",
       "郑州     16\n",
       "无锡     14\n",
       "南宁     14\n",
       "长沙     14\n",
       "福州     13\n",
       "济南     13\n",
       "合肥     11\n",
       "湖州     11\n",
       "常州     10\n",
       "大连      9\n",
       "哈尔滨     8\n",
       "佛山      5\n",
       "温州      4\n",
       "南昌      2\n",
       "Name: 销售人城市, dtype: int64"
      ]
     },
     "execution_count": 5,
     "metadata": {},
     "output_type": "execute_result"
    }
   ],
   "source": [
    "city_brand_list = city_door_list.drop_duplicates(subset=['品牌名称','销售人城市'],keep='first',inplace=False)\n",
    "city_brand_count = city_brand_list['销售人城市'].value_counts()\n",
    "city_brand_count"
   ]
  },
  {
   "cell_type": "code",
   "execution_count": 6,
   "metadata": {},
   "outputs": [],
   "source": [
    "writer = pd.ExcelWriter(r'D:\\周报制作\\财务收款门店数与品牌数\\20180810_财务收款门店数与品牌数.xlsx')\n",
    "data_in_add_department.to_excel(writer,'财务收款订单',index=False)\n",
    "data_in_merge_need.to_excel(writer,'财务收款订单折叠',index=False)\n",
    "city_door_list.to_excel(writer,'去重后的门店',index=False)\n",
    "city_brand_list.to_excel(writer,'去重后的品牌',index=False)\n",
    "city_door_count.to_excel(writer,'门店数统计',index_label='城市')\n",
    "city_brand_count.to_excel(writer,'品牌数统计',index_label='城市')\n",
    "writer.save()"
   ]
  }
 ],
 "metadata": {
  "kernelspec": {
   "display_name": "Python 3",
   "language": "python",
   "name": "python3"
  },
  "language_info": {
   "codemirror_mode": {
    "name": "ipython",
    "version": 3
   },
   "file_extension": ".py",
   "mimetype": "text/x-python",
   "name": "python",
   "nbconvert_exporter": "python",
   "pygments_lexer": "ipython3",
   "version": "3.6.5"
  }
 },
 "nbformat": 4,
 "nbformat_minor": 2
}
