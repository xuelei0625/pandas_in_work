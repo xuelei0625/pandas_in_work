{
 "cells": [
  {
   "cell_type": "code",
   "execution_count": null,
   "metadata": {},
   "outputs": [],
   "source": [
    "import os\n",
    "os.chdir(r'E:\\流水分析')"
   ]
  },
  {
   "cell_type": "code",
   "execution_count": null,
   "metadata": {},
   "outputs": [],
   "source": [
    "for file in os.listdir():\n",
    "    print(file)"
   ]
  },
  {
   "cell_type": "code",
   "execution_count": null,
   "metadata": {},
   "outputs": [],
   "source": [
    "import pandas as pd\n",
    "data_path = 'E:\\流水分析'\n",
    "data = pd.DataFrame()\n",
    "\n",
    "for file in os.listdir():\n",
    "    data_file = os.path.join(data_path,file)\n",
    "    print(data_file)\n",
    "    data_arr = pd.read_csv(data_file,engine='python')\n",
    "    data = pd.concat([data,data_arr])\n",
    "print(data.shape)"
   ]
  },
  {
   "cell_type": "code",
   "execution_count": null,
   "metadata": {},
   "outputs": [],
   "source": [
    "data.columns"
   ]
  },
  {
   "cell_type": "code",
   "execution_count": null,
   "metadata": {},
   "outputs": [],
   "source": [
    "data['秒付流水'] = data['秒付流水'].astype('float')\n",
    "data['支付流水'] = data['支付流水'].astype('float')\n",
    "data['收银码流水'] = data['门店码流水'].astype('float') + data['桌面码流水'].astype('float')"
   ]
  },
  {
   "cell_type": "code",
   "execution_count": null,
   "metadata": {},
   "outputs": [],
   "source": [
    "data.groupby('时间')['秒付流水','支付流水','收银码流水'].sum()"
   ]
  },
  {
   "cell_type": "code",
   "execution_count": null,
   "metadata": {},
   "outputs": [],
   "source": [
    "data.pivot_table(['秒付流水','支付流水','收银码流水'],index=['大区','时间'],aggfunc='sum')"
   ]
  },
  {
   "cell_type": "code",
   "execution_count": null,
   "metadata": {},
   "outputs": [],
   "source": [
    "data.pivot_table(['秒付流水','支付流水','收银码流水'],index=['时间','大区'],aggfunc='sum')"
   ]
  },
  {
   "cell_type": "code",
   "execution_count": null,
   "metadata": {},
   "outputs": [],
   "source": [
    "import matplotlib.pyplot as plt\n",
    "from pylab import mpl \n",
    "mpl.rcParams['font.sans-serif'] = ['SimHei']"
   ]
  },
  {
   "cell_type": "code",
   "execution_count": null,
   "metadata": {},
   "outputs": [],
   "source": [
    "data.groupby('时间')['秒付流水','支付流水','收银码流水'].sum()"
   ]
  },
  {
   "cell_type": "code",
   "execution_count": null,
   "metadata": {},
   "outputs": [],
   "source": [
    "fig_data = data.groupby('时间')['秒付流水','支付流水','收银码流水'].sum()\n",
    "\n",
    "plt.plot(fig_data['支付流水'],marker='o',linestyle='--',label='支付流水')\n",
    "plt.plot(fig_data['秒付流水'],marker='o',linestyle='--',label='秒付流水')\n",
    "plt.plot(fig_data['收银码流水'],marker='o',linestyle='--',label='收银码流水')\n",
    "plt.legend()"
   ]
  },
  {
   "cell_type": "code",
   "execution_count": null,
   "metadata": {},
   "outputs": [],
   "source": [
    "rate = pd.read_excel(r'E:\\流水分析\\工作簿1.xlsx','Sheet2')\n",
    "rate"
   ]
  },
  {
   "cell_type": "code",
   "execution_count": null,
   "metadata": {},
   "outputs": [],
   "source": [
    "rate.index = rate['时间']\n",
    "y = rate[['秒付流水','支付流水','收银码流水']]\n",
    "x = rate.index\n",
    "\n",
    "plt.plot(x,y['支付流水'],marker='o',linestyle='--',label='支付流水')\n",
    "plt.plot(x,y['秒付流水'],marker='o',linestyle='--',label='秒付流水')\n",
    "plt.plot(x,y['收银码流水'],marker='o',linestyle='--',label='收银码流水')\n",
    "plt.legend(bbox_to_anchor=(0.7, 0.15))"
   ]
  },
  {
   "cell_type": "code",
   "execution_count": null,
   "metadata": {},
   "outputs": [],
   "source": [
    "?plt.legend"
   ]
  },
  {
   "cell_type": "code",
   "execution_count": null,
   "metadata": {},
   "outputs": [],
   "source": [
    "door_data = data.groupby('门店')['秒付流水','支付流水','收银码流水'].sum()"
   ]
  },
  {
   "cell_type": "code",
   "execution_count": null,
   "metadata": {},
   "outputs": [],
   "source": [
    "door_data.sort_values('秒付流水',ascending=False).head(20)"
   ]
  },
  {
   "cell_type": "code",
   "execution_count": null,
   "metadata": {},
   "outputs": [],
   "source": [
    "pd.merge(door_data.sort_values('秒付流水',ascending=False),data[['门店','大区','城市']].drop_duplicates(),on='门店')[['门店','大区','城市','秒付流水','支付流水','收银码流水']].head(20)"
   ]
  },
  {
   "cell_type": "code",
   "execution_count": null,
   "metadata": {},
   "outputs": [],
   "source": [
    "pd.merge(door_data.sort_values('支付流水',ascending=False),data[['门店','大区','城市']].drop_duplicates(),on='门店')[['门店','大区','城市','支付流水','秒付流水','收银码流水']].head(20)"
   ]
  },
  {
   "cell_type": "code",
   "execution_count": null,
   "metadata": {},
   "outputs": [],
   "source": [
    "pd.merge(door_data.sort_values('收银码流水',ascending=False),data[['门店','大区','城市']].drop_duplicates(),on='门店')[['门店','大区','城市','收银码流水','秒付流水','支付流水']].head(20)"
   ]
  },
  {
   "cell_type": "code",
   "execution_count": null,
   "metadata": {},
   "outputs": [],
   "source": [
    "door_data.sort_values('收银码流水',ascending=False).head(20)"
   ]
  },
  {
   "cell_type": "code",
   "execution_count": null,
   "metadata": {},
   "outputs": [],
   "source": [
    "'门店月度存在分析"
   ]
  },
  {
   "cell_type": "code",
   "execution_count": null,
   "metadata": {},
   "outputs": [],
   "source": [
    "data['总流水'] = data['秒付流水']+data['支付流水']+data['收银码流水']"
   ]
  },
  {
   "cell_type": "code",
   "execution_count": null,
   "metadata": {},
   "outputs": [],
   "source": [
    "'有总流水的门店\n",
    "data[data['总流水']>0].shape"
   ]
  },
  {
   "cell_type": "code",
   "execution_count": null,
   "metadata": {},
   "outputs": [],
   "source": [
    "data[data['总流水']>0].groupby('时间')['门店ID'].count()"
   ]
  },
  {
   "cell_type": "code",
   "execution_count": null,
   "metadata": {},
   "outputs": [],
   "source": [
    "door_count = data[data['总流水']>0].groupby('时间')['门店ID'].count()\n",
    "plt.plot(door_count,'--or')"
   ]
  },
  {
   "cell_type": "code",
   "execution_count": null,
   "metadata": {},
   "outputs": [],
   "source": [
    "1-data[data['总流水']>0].groupby('时间')['门店ID'].count().loc['2018年5月']/data[data['总流水']>0].groupby('时间')['门店ID'].count().loc['2018年1月']"
   ]
  }
 ],
 "metadata": {
  "kernelspec": {
   "display_name": "Python 3",
   "language": "python",
   "name": "python3"
  },
  "language_info": {
   "codemirror_mode": {
    "name": "ipython",
    "version": 3
   },
   "file_extension": ".py",
   "mimetype": "text/x-python",
   "name": "python",
   "nbconvert_exporter": "python",
   "pygments_lexer": "ipython3",
   "version": "3.7.3"
  }
 },
 "nbformat": 4,
 "nbformat_minor": 2
}
